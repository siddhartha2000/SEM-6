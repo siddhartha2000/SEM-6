{
 "cells": [
  {
   "cell_type": "code",
   "execution_count": 1,
   "metadata": {},
   "outputs": [],
   "source": [
    "import csv\n",
    "\n",
    "a=[]                  "
   ]
  },
  {
   "cell_type": "code",
   "execution_count": 2,
   "metadata": {},
   "outputs": [
    {
     "output_type": "stream",
     "name": "stdout",
     "text": [
      "[['sunny', 'hot', 'high', 'weak', 'no'], ['sunny', 'hot', 'high', 'strong', 'no'], ['overcast', 'hot', 'high', 'weak', 'yes'], ['rain', 'mild', 'high', 'weak', 'yes'], ['rain', 'cool', 'normal', 'weak', 'yes'], ['rain', 'cool', 'normal', 'strong', 'no'], ['overcast', 'cool', 'normal', 'strong', 'yes'], ['sunny', 'mild', 'high', 'weak', 'no'], ['sunny', 'cool', 'normal', 'weak', 'yes'], ['rain', 'mild', 'normal', 'weak', 'yes'], ['sunny', 'mild', 'normal', 'strong', 'yes'], ['overcast', 'mild', 'high', 'strong', 'yes'], ['overcast', 'hot', 'normal', 'weak', 'yes'], ['rain', 'mild', 'high', 'strong', 'no']]\n\nThe Total Number of Training Instances are:  14\n"
     ]
    }
   ],
   "source": [
    "with open('dataset.csv','r') as csvfile:\n",
    "    for row in csv.reader(csvfile):\n",
    "        a.append(row)\n",
    "    print(a) \n",
    "\n",
    "print(\"\\nThe Total Number of Training Instances are: \",len(a))"
   ]
  },
  {
   "cell_type": "code",
   "execution_count": 3,
   "metadata": {},
   "outputs": [
    {
     "output_type": "stream",
     "name": "stdout",
     "text": [
      "\nThe Initial Hypothesis is: \n['0', '0', '0', '0']\n\nThe Hypothesis for the training instance 1 is: \n ['0', '0', '0', '0']\n\nThe Hypothesis for the training instance 2 is: \n ['0', '0', '0', '0']\n\nThe Hypothesis for the training instance 3 is: \n ['overcast', 'hot', 'high', 'weak']\n\nThe Hypothesis for the training instance 4 is: \n ['?', '?', 'high', 'weak']\n\nThe Hypothesis for the training instance 5 is: \n ['?', '?', '?', 'weak']\n\nThe Hypothesis for the training instance 6 is: \n ['?', '?', '?', 'weak']\n\nThe Hypothesis for the training instance 7 is: \n ['?', '?', '?', '?']\n\nThe Hypothesis for the training instance 8 is: \n ['?', '?', '?', '?']\n\nThe Hypothesis for the training instance 9 is: \n ['?', '?', '?', '?']\n\nThe Hypothesis for the training instance 10 is: \n ['?', '?', '?', '?']\n\nThe Hypothesis for the training instance 11 is: \n ['?', '?', '?', '?']\n\nThe Hypothesis for the training instance 12 is: \n ['?', '?', '?', '?']\n\nThe Hypothesis for the training instance 13 is: \n ['?', '?', '?', '?']\n\nThe Hypothesis for the training instance 14 is: \n ['?', '?', '?', '?']\n"
     ]
    }
   ],
   "source": [
    "num_attribute = len(a[0])-1\n",
    "\n",
    "print(\"\\nThe Initial Hypothesis is: \")\n",
    "hypothesis = ['0']*num_attribute\n",
    "print(hypothesis)\n",
    "\n",
    "for i in range(0,len(a)):\n",
    "    if a[i][num_attribute] == 'yes':\n",
    "        for j in range(0,num_attribute):\n",
    "            if hypothesis[j] == '0' or hypothesis[j] == a[i][j]:\n",
    "                hypothesis[j] = a[i][j]\n",
    "            else:\n",
    "                hypothesis[j] = '?'\n",
    "                \n",
    "    print(\"\\nThe Hypothesis for the training instance {} is: \\n\".format(i+1),hypothesis)"
   ]
  },
  {
   "cell_type": "code",
   "execution_count": 4,
   "metadata": {},
   "outputs": [
    {
     "output_type": "stream",
     "name": "stdout",
     "text": [
      "\nThe Maximally Specific Hypothesis for the training instance is \n['?', '?', '?', '?']\n"
     ]
    }
   ],
   "source": [
    "print(\"\\nThe Maximally Specific Hypothesis for the training instance is \")\n",
    "print(hypothesis)"
   ]
  }
 ],
 "metadata": {
  "kernelspec": {
   "name": "python391jvsc74a57bd0b3f5c0477b8ff524c80e7503b2c4191664eb11f1b19e3b862a541b885755862b",
   "display_name": "Python 3.9.1 64-bit"
  },
  "language_info": {
   "codemirror_mode": {
    "name": "ipython",
    "version": 3
   },
   "file_extension": ".py",
   "mimetype": "text/x-python",
   "name": "python",
   "nbconvert_exporter": "python",
   "pygments_lexer": "ipython3",
   "version": "3.9.1"
  },
  "metadata": {
   "interpreter": {
    "hash": "b3f5c0477b8ff524c80e7503b2c4191664eb11f1b19e3b862a541b885755862b"
   }
  }
 },
 "nbformat": 4,
 "nbformat_minor": 2
}